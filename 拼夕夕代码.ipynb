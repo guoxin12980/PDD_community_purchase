{
 "cells": [
  {
   "cell_type": "code",
   "execution_count": 2,
   "metadata": {},
   "outputs": [],
   "source": [
    "import requests\n",
    "import json"
   ]
  },
  {
   "cell_type": "code",
   "execution_count": 47,
   "metadata": {},
   "outputs": [],
   "source": [
    "url_origin = 'https://mobile.yangkeduo.com/audio_record.html?goods_id=355337337541&_pdd_fs=1&_pdd_tc=ffffff&_pdd_sbs=1&refer_com_type=&refer_page_el_sn=6712218&refer_component_id=p-c9vqbo089&_x_share_id=PF4hBwPuqLA0wmpUVTqj6M9isALgMa3T&refer_page_name=new_season&refer_page_id=114351_1652342831014_sigegdrd85&refer_page_sn=114351&log_session_id=4uoann1x632ggj2t6ab11'\n",
    "\n",
    "url = 'https://mobile.yangkeduo.com/proxy/api/api/neighbor/community/list?pdduid=4613900894122'"
   ]
  },
  {
   "cell_type": "code",
   "execution_count": 142,
   "metadata": {},
   "outputs": [],
   "source": [
    "myheaders = {\n",
    "    \"accept\": \"application/json, text/plain, */*\",\n",
    "    \"accept-encoding\": \"gzip, deflate, br\",\n",
    "    \"accept-language\": \"zh-CN,zh;q=0.9\",\n",
    "    \"accesstoken\": \"VNFFCMO6EUDX3H6BMZZYPOWUDW2Q6TL44EPNES3R57RFB6VUPCPQ113aa96\",\n",
    "    \"content-length\": \"1034\",\n",
    "    \"content-type\": \"application/json;charset=UTF-8\",\n",
    "    \"cookie\": \"api_uid=Ck8KBWJ8vjpApgBQ8FIhAg==; _nano_fp=XpEyX5XYX5XqX0djX9_zzF~LtlTmlIDRo79MgtEh; webp=1; dilx=2Ts5CB8s7Vtw4R0sTnwz0; PDDAccessToken=VNFFCMO6EUDX3H6BMZZYPOWUDW2Q6TL44EPNES3R57RFB6VUPCPQ113aa96; pdd_user_id=4613900894122; pdd_user_uin=T6Y7AWAMUBREI4GHGB2335VV4E_GEXDA; jrpl=ElrdrzKlo0vdtm0mrew2TaYD6ukDBDfG; njrpl=ElrdrzKlo0vdtm0mrew2TaYD6ukDBDfG; pdd_vds=gaZLvIxicnuNCPCQcNDbdbradEcbuGuOYGcyryTtZtCtuLTIuGZQByBIvalP\",\n",
    "    \"origin\": \"https://mobile.yangkeduo.com\",\n",
    "    \"referer\": \"https://mobile.yangkeduo.com/audio_record.html?goods_id=355337337541&_pdd_fs=1&_pdd_tc=ffffff&_pdd_sbs=1&refer_com_type=&refer_page_el_sn=6712218&refer_component_id=p-c9vqbo089&_x_share_id=PF4hBwPuqLA0wmpUVTqj6M9isALgMa3T&refer_page_name=new_season&refer_page_id=114351_1652342831014_sigegdrd85&refer_page_sn=114351&log_session_id=4uoann1x632ggj2t6ab11\",\n",
    "    \"sec-ch-ua\": '\" Not A;Brand\";v=\"99\", \"Chromium\";v=\"101\", \"Google Chrome\";v=\"101\"',\n",
    "    \"sec-ch-ua-mobile\": \"?1\",\n",
    "    \"sec-ch-ua-platform\": \"Android\",\n",
    "    \"sec-fetch-dest\": \"empty\",\n",
    "    \"sec-fetch-mode\": \"cors\",\n",
    "    \"sec-fetch-site\": \"same-origin\",\n",
    "    \"user-agent\": \"Mozilla/5.0 (Linux; Android 6.0; Nexus 5 Build/MRA58N) AppleWebKit/537.36 (KHTML, like Gecko) Chrome/101.0.4951.54 Mobile Safari/537.36\",\n",
    "    \"verifyauthtoken\": \"Sboro14_Ftcs-EODj0tywAbb1ea72f0aca5ebcf\"}\n",
    "\n",
    "data = {\"goods_id\": 355337337541, \"activity_group_num_limit\": 0, \"community_name\": \"安临小区\"}"
   ]
  },
  {
   "cell_type": "code",
   "execution_count": 25,
   "metadata": {},
   "outputs": [],
   "source": [
    "cookies ='cookie: api_uid=Ck8KBWJ8vjpApgBQ8FIhAg==; _nano_fp=XpEyX5XYX5XqX0djX9_zzF~LtlTmlIDRo79MgtEh; webp=1; jrpl=tlNQb4tSOa0GednfFOGuqnUhqyN57wox; njrpl=tlNQb4tSOa0GednfFOGuqnUhqyN57wox; dilx=2Ts5CB8s7Vtw4R0sTnwz0; PDDAccessToken=5G5O45JQMITHNHP4WVGQAP34VAGIEG7WLPPWRIKW4XB3L7DRD6MQ113aa96; pdd_user_id=4613900894122; pdd_user_uin=T6Y7AWAMUBREI4GHGB2335VV4E_GEXDA; pdd_vds=gavDhxlncTrmCBYDDbsLBuhNCscwTuDsulfLrbfsssBdDucwvBYeedclxTTT'"
   ]
  },
  {
   "cell_type": "code",
   "execution_count": 15,
   "metadata": {},
   "outputs": [],
   "source": []
  },
  {
   "cell_type": "code",
   "execution_count": 51,
   "metadata": {},
   "outputs": [
    {
     "data": {
      "text/plain": [
       "<Response [200]>"
      ]
     },
     "execution_count": 51,
     "metadata": {},
     "output_type": "execute_result"
    }
   ],
   "source": [
    "rep = requests.post(headers=myheaders,url=url,json = data)\n",
    "rep"
   ]
  },
  {
   "cell_type": "code",
   "execution_count": 52,
   "metadata": {},
   "outputs": [
    {
     "data": {
      "text/plain": [
       "'{\"community_group_vo_list\":[{\"group_order_id\":\"1851490377102821374\",\"customer_num\":20,\"member_count\":5,\"community_name\":\"安临小区\",\"community_address\":\"杨新路197弄\",\"community_id\":\"CgI2WRIIaXZoSnBQeVMaME6a0Cy3qnbLFkxHO0rdZI2WxyzcZkuoxyg99Wycl6aQv7n18i7vC0oWoc3rU/EBeTAC\",\"is_valid_transport\":true}]}'"
      ]
     },
     "execution_count": 52,
     "metadata": {},
     "output_type": "execute_result"
    }
   ],
   "source": [
    "rep.text"
   ]
  },
  {
   "cell_type": "code",
   "execution_count": 3,
   "metadata": {},
   "outputs": [],
   "source": [
    "url_group ='https://mobile.yangkeduo.com/proxy/api/api/carnival/goods_list/list?comp_key=DcCommonGoodsList&comp_id=p-gjxbsyt08&pdduid=4613900894122'\n",
    "\n",
    "data_group={\n",
    "  \"impr_subject_ids\": \"103144\",\n",
    "  \"carnival_id\": \"220406\",\n",
    "  \"group\": \"current_community_buying_goods_list\",\n",
    "  \"promotion_id\": 101494,\n",
    "  \"list_id\": \"attendance_zfy0qp\",\n",
    "  \"page_no\": 1,\n",
    "  \"page_size\": 2,\n",
    "  \"min_display_num\": 1,\n",
    "  \"extra_param\": {\n",
    "    \"group_purchase_progress\": 0.1,\n",
    "    \"page_sn\": \"114009\"\n",
    "  },\n",
    "  \"use_rec_team_three\": \"true\",\n",
    "  \"component_mark\": \"220406_main_182257_你的小区正在拼\",\n",
    "  \"component_index\": 11,\n",
    "  \"anti_content\": \"0aqWfqnF0joyy99Z1n7UfsT2bw9V1cTtKsikzo5Xqg4hYTCcwyrLdAX-N5fHze-zHVL0KKYKgY9y1ywOCg6dQN4Bxtz97eFAF_g7nVeJhv3SJA3ALhvqOrWSDoDJ-EcGc-dKLGV5NW5MBTps-lZinnapKn-fFqYwQ_GVID2SyL1g2vfzfTsGdTF4DOQuS12Nzg5NSXLJ-tK2n2DtQxygZsS11qpqPplh7JPFcQUINpbx3iBC1H_h0EnW0MhJ0HiNQHk3i8CnrHJfnw9_4vPZVTwUtv6IPg-BwnkxdUvJPJZCmozikACOotqhS1pcmXj58nCx9PgAeh-qjdpLBMTkqa90Tg8TkRh-Vh9VmsFu_0DTx8pzUrTlez15g3XvKZevV739W1MiN_86KteY_SKylFN8au6dkb-vgTT4v2TnPagH90rYyoV8GzauzkJoD-rzG0yOQA5MyOQ2UnQBLzErvA7gkNFuWz3XsXjlqalKrCzmmLHtTyFDx9_pdB_iQr8akqexh5PofxxSeCBVGwrFwL87ZiJQ-dJjNJoQLLCZGbjrfRxmOAGh2O7C208k5bokNLxnEGyCcO3uhWAcmvcfho2M7o8YkTSKbfmSUoNuoXJVIBcNZNG3MNz\",\n",
    "  \"cart_id\": 182257\n",
    "}"
   ]
  },
  {
   "cell_type": "code",
   "execution_count": 136,
   "metadata": {
    "scrolled": true
   },
   "outputs": [
    {
     "name": "stdout",
     "output_type": "stream",
     "text": [
      "('海鲜组合套餐', '4/10还缺6份成团---链接https://mobile.yangkeduo.com/audio_record.html?goods_id=357987647926')\n",
      "('娃哈哈AD钙奶220ml*24', '11/35还缺24份成团---链接https://mobile.yangkeduo.com/audio_record.html?goods_id=353430233600')\n",
      "('娃哈哈八宝粥12瓶', '8/30还缺22份成团---链接https://mobile.yangkeduo.com/audio_record.html?goods_id=356092848557')\n",
      "('医用外科口罩100片', '3/16还缺13份成团---链接https://mobile.yangkeduo.com/audio_record.html?goods_id=354089953593')\n",
      "('麒麟8424西瓜12斤', '3/20还缺17份成团---链接https://mobile.yangkeduo.com/audio_record.html?goods_id=357160691047')\n",
      "('洛川富士净重10斤大果', '2/15还缺13份成团---链接https://mobile.yangkeduo.com/audio_record.html?goods_id=357167740093')\n",
      "('冷冻黑虎虾1斤', '1/10还缺9份成团---链接https://mobile.yangkeduo.com/audio_record.html?goods_id=358307284785')\n",
      "('75医用酒精三瓶', '1/10还缺9份成团---链接https://mobile.yangkeduo.com/audio_record.html?goods_id=359085692880')\n",
      "('【仅上海发货 小区团购 48小时送达】农夫山泉5L*4桶10份成团', '1/10还缺9份成团---链接https://mobile.yangkeduo.com/audio_record.html?goods_id=359148953718')\n",
      "['已经成团可以加单---链接https://mobile.yangkeduo.com/audio_record.html?goods_id=359973723970', '红心蜜薯8斤']\n",
      "['你们遗忘的彬彬白玉豆腐(机器人表示不喜欢吃豆腐)', '13/20还缺7份成团---链接https://mobile.yangkeduo.com/audio_record.html?goods_id=360640411776']\n"
     ]
    }
   ],
   "source": [
    "resp = requests.post(headers=myheaders,url=url_group,json = data_group)\n",
    "\n",
    "Group_data = resp.json()\n",
    "short_name=[]\n",
    "goods_id=[]\n",
    "community_group_info=[]\n",
    "#print(Group_data)\n",
    "A = Group_data['goods_list']\n",
    "\n",
    "\n",
    "for i in A:\n",
    "    goods_id.append(i['goods_id'])\n",
    "    short_name.append(i['short_name'])\n",
    "    community_group_info.append(i['community_group_info'])\n",
    "    \n",
    "statue=[]\n",
    "\n",
    "n=0\n",
    "for s in community_group_info:\n",
    "   \n",
    "    min_n =s['member_count']\n",
    "    success_num = s['group_customer_num']\n",
    "    s = str(min_n) + \"/\"+str(success_num)+\"还缺\"+str(success_num-min_n)+\"份成团\"+'---'+'链接'+'https://mobile.yangkeduo.com/audio_record.html?goods_id='+str(goods_id[n])\n",
    "    statue.append(s)\n",
    "    n+=1\n",
    "    if min_n/success_num ==1:\n",
    "        f=short_name[n]+\"已经成团可以再追加\"+'---'+'链接'+'https://mobile.yangkeduo.com/audio_record.html?goods_id='+str(goods_id[n])\n",
    "        finish_group.append(f)\n",
    "    \n",
    "data_dict = zip(short_name,statue)\n",
    "\n",
    "for i in data_dict:\n",
    "    n = 0\n",
    "  \n",
    "    print(str(i))\n",
    "    \n",
    "    #print(i[0]+'https://mobile.yangkeduo.com/audio_record.html?goods_id='+goods_id[n])\n",
    "    n+=1\n",
    "    \n",
    "print(list(set(finish_group)))\n",
    "print(mamual_group)\n"
   ]
  },
  {
   "cell_type": "code",
   "execution_count": 134,
   "metadata": {},
   "outputs": [],
   "source": [
    "finish_group=['红心蜜薯8斤', '已经成团可以加单---链接https://mobile.yangkeduo.com/audio_record.html?goods_id=359973723970']\n",
    "mamual_group=['你们遗忘的彬彬白玉豆腐(机器人表示不喜欢吃豆腐)', '13/20还缺7份成团---链接https://mobile.yangkeduo.com/audio_record.html?goods_id=360640411776']"
   ]
  },
  {
   "cell_type": "code",
   "execution_count": 95,
   "metadata": {},
   "outputs": [
    {
     "name": "stdout",
     "output_type": "stream",
     "text": [
      "('红心蜜薯8斤', '5/10还缺5份成团---链接https://mobile.yangkeduo.com/audio_record.html?goods_id=359973723970')\n",
      "('海鲜组合套餐', '4/10还缺6份成团---链接https://mobile.yangkeduo.com/audio_record.html?goods_id=357987647926')\n",
      "('娃哈哈八宝粥12瓶', '9/30还缺21份成团---链接https://mobile.yangkeduo.com/audio_record.html?goods_id=356092848557')\n",
      "('娃哈哈AD钙奶220ml*24', '9/35还缺26份成团---链接https://mobile.yangkeduo.com/audio_record.html?goods_id=353430233600')\n",
      "('新东大炸鸡套餐', '5/20还缺15份成团---链接https://mobile.yangkeduo.com/audio_record.html?goods_id=355337337541')\n",
      "('埃及橙  2.5kg', '5/20还缺15份成团---链接https://mobile.yangkeduo.com/audio_record.html?goods_id=355871101101')\n",
      "('15份李子柒螺蛳粉', '3/15还缺12份成团---链接https://mobile.yangkeduo.com/audio_record.html?goods_id=360050455940')\n",
      "('原切生牛肉2斤', '1/5还缺4份成团---链接https://mobile.yangkeduo.com/audio_record.html?goods_id=359144965572')\n",
      "('医用外科口罩100片', '3/16还缺13份成团---链接https://mobile.yangkeduo.com/audio_record.html?goods_id=354089953593')\n",
      "('洛川富士净重10斤大果', '2/15还缺13份成团---链接https://mobile.yangkeduo.com/audio_record.html?goods_id=357167740093')\n",
      "('真真老老粽子10只', '4/30还缺26份成团---链接https://mobile.yangkeduo.com/audio_record.html?goods_id=357960332488')\n",
      "('麒麟8424西瓜12斤', '2/20还缺18份成团---链接https://mobile.yangkeduo.com/audio_record.html?goods_id=357160691047')\n",
      "('75医用酒精三瓶', '1/10还缺9份成团---链接https://mobile.yangkeduo.com/audio_record.html?goods_id=359085692880')\n",
      "('【仅上海发货 小区团购 48小时送达】农夫山泉5L*4桶10份成团', '1/10还缺9份成团---链接https://mobile.yangkeduo.com/audio_record.html?goods_id=359148953718')\n"
     ]
    }
   ],
   "source": [
    "short_name=[]\n",
    "goods_id=[]\n",
    "community_group_info=[]\n",
    "#print(Group_data)\n",
    "A = Group_data['goods_list']\n",
    "\n",
    "\n",
    "for i in A:\n",
    "    goods_id.append(i['goods_id'])\n",
    "    short_name.append(i['short_name'])\n",
    "    community_group_info.append(i['community_group_info'])\n",
    "    \n",
    "statue=[]\n",
    "n=0\n",
    "for s in community_group_info:\n",
    "    \n",
    "    min_n =s['member_count']\n",
    "    success_num = s['group_customer_num']\n",
    "    s = str(min_n) + \"/\"+str(success_num)+\"还缺\"+str(success_num-min_n)+\"份成团\"+'---'+'链接'+'https://mobile.yangkeduo.com/audio_record.html?goods_id='+str(goods_id[n])\n",
    "    n+=1\n",
    "    statue.append(s)\n",
    "    \n",
    "data_dict = zip(short_name,statue)\n",
    "\n",
    "for i in data_dict:\n",
    "    n = 0\n",
    "  \n",
    "    print(str(i))\n",
    "    \n",
    "    #print(i[0]+'https://mobile.yangkeduo.com/audio_record.html?goods_id='+goods_id[n])\n",
    "    n+=1\n",
    "    \n"
   ]
  },
  {
   "cell_type": "code",
   "execution_count": null,
   "metadata": {},
   "outputs": [],
   "source": [
    "\n"
   ]
  },
  {
   "cell_type": "code",
   "execution_count": null,
   "metadata": {},
   "outputs": [],
   "source": []
  },
  {
   "cell_type": "code",
   "execution_count": null,
   "metadata": {},
   "outputs": [],
   "source": [
    "\n"
   ]
  },
  {
   "cell_type": "code",
   "execution_count": 137,
   "metadata": {},
   "outputs": [
    {
     "name": "stdout",
     "output_type": "stream",
     "text": [
      "Looking in indexes: https://pypi.tuna.tsinghua.edu.cn/simple\n",
      "Requirement already satisfied: itchat in ./opt/anaconda3/lib/python3.8/site-packages (1.3.10)\n",
      "Requirement already satisfied: pyqrcode in ./opt/anaconda3/lib/python3.8/site-packages (from itchat) (1.2.1)\n",
      "Requirement already satisfied: pypng in ./opt/anaconda3/lib/python3.8/site-packages (from itchat) (0.0.21)\n",
      "Requirement already satisfied: requests in ./opt/anaconda3/lib/python3.8/site-packages (from itchat) (2.27.1)\n",
      "Requirement already satisfied: charset-normalizer~=2.0.0; python_version >= \"3\" in ./opt/anaconda3/lib/python3.8/site-packages (from requests->itchat) (2.0.4)\n",
      "Requirement already satisfied: urllib3<1.27,>=1.21.1 in ./opt/anaconda3/lib/python3.8/site-packages (from requests->itchat) (1.26.8)\n",
      "Requirement already satisfied: certifi>=2017.4.17 in ./opt/anaconda3/lib/python3.8/site-packages (from requests->itchat) (2021.10.8)\n",
      "Requirement already satisfied: idna<4,>=2.5; python_version >= \"3\" in ./opt/anaconda3/lib/python3.8/site-packages (from requests->itchat) (2.10)\n",
      "Note: you may need to restart the kernel to use updated packages.\n"
     ]
    }
   ],
   "source": [
    "pip install itchat"
   ]
  },
  {
   "cell_type": "code",
   "execution_count": 4,
   "metadata": {},
   "outputs": [],
   "source": [
    "url_new = 'https://mobile.yangkeduo.com/audio_record.html?goods_id=359973723970'"
   ]
  },
  {
   "cell_type": "code",
   "execution_count": 4,
   "metadata": {},
   "outputs": [
    {
     "data": {
      "text/plain": [
       "<Response [200]>"
      ]
     },
     "execution_count": 4,
     "metadata": {},
     "output_type": "execute_result"
    }
   ],
   "source": [
    "resp2= requests.get(url=url_new,headers=myheaders_get)\n",
    "resp2"
   ]
  },
  {
   "cell_type": "code",
   "execution_count": 3,
   "metadata": {},
   "outputs": [],
   "source": [
    "myheaders_get = {\n",
    "    \"accept\": \"text/html,application/xhtml+xml,application/xml;q=0.9,image/avif,image/webp,image/apng,*/*;q=0.8,application/signed-exchange;v=b3;q=0.9\",\n",
    "    \"accept-encoding\": \"gzip, deflate, br\",\n",
    "    \"accept-language\": \"zh-CN,zh;q=0.9\",\n",
    "    \"cache-control\": \"max-age=0\",\n",
    "    \"cookie\": \"api_uid=Ck8KBWJ8vjpApgBQ8FIhAg==; _nano_fp=XpEyX5XYX5XqX0djX9_zzF~LtlTmlIDRo79MgtEh; webp=1; dilx=2Ts5CB8s7Vtw4R0sTnwz0; PDDAccessToken=VNFFCMO6EUDX3H6BMZZYPOWUDW2Q6TL44EPNES3R57RFB6VUPCPQ113aa96; pdd_user_id=4613900894122; pdd_user_uin=T6Y7AWAMUBREI4GHGB2335VV4E_GEXDA; jrpl=ElrdrzKlo0vdtm0mrew2TaYD6ukDBDfG; njrpl=ElrdrzKlo0vdtm0mrew2TaYD6ukDBDfG; pdd_vds=gaLLNIiiyiLnNEtLobbQPtmaiIayQQGPPnnbmyionPaaEGmIEibLQOoQGmyb\",\n",
    "    \"sec-ch-ua\": '\" Not A;Brand\";v=\"99\", \"Chromium\";v=\"101\", \"Google Chrome\";v=\"101\"',\n",
    "    \"sec-ch-ua-mobile\": \"?1\",\n",
    "    \"sec-ch-ua-platform\": \"Android\",\n",
    "    \"sec-fetch-dest\": \"document\",\n",
    "    \"sec-fetch-mode\": \"navigate\",\n",
    "    \"sec-fetch-site\": \"none\",\n",
    "    \"sec-fetch-user\": \"?1\",\n",
    "    \"upgrade-insecure-requests\": \"1\",\n",
    "    \"user-agent\": \"Mozilla/5.0 (Linux; Android 6.0; Nexus 5 Build/MRA58N) AppleWebKit/537.36 (KHTML, like Gecko) Chrome/101.0.4951.54 Mobile Safari/537.36\"\n",
    "    }\n"
   ]
  },
  {
   "cell_type": "code",
   "execution_count": null,
   "metadata": {},
   "outputs": [],
   "source": []
  },
  {
   "cell_type": "code",
   "execution_count": 2,
   "metadata": {},
   "outputs": [
    {
     "name": "stdout",
     "output_type": "stream",
     "text": [
      "当前时间:Fri May 20 13:06:41 2022义务播报，此条信息为小区目前拼多多拼团情况\n"
     ]
    }
   ],
   "source": [
    "from bs4 import BeautifulSoup\n",
    "import pyperclip\n",
    "import re\n",
    "import time\n",
    "import pyautogui\n",
    "import time \n",
    "import requests\n",
    "import json\n",
    "print(\"当前时间:\"+str(time.asctime())+\"义务播报，此条信息为小区目前拼多多拼团情况\")"
   ]
  },
  {
   "cell_type": "code",
   "execution_count": 33,
   "metadata": {
    "scrolled": true
   },
   "outputs": [
    {
     "name": "stdout",
     "output_type": "stream",
     "text": [
      "临安天目山春笋10斤10份成团已成团01:19:35后发货链接------https://mobile.yangkeduo.com/audio_record.html?goods_id=357993025930\n",
      "乌苏啤酒500ml*12罐5份成团已拼3/5件链接------https://mobile.yangkeduo.com/audio_record.html?goods_id=362529432226\n",
      "乌江榨菜70g*10包 28份成团已拼12/28件链接------https://mobile.yangkeduo.com/audio_record.html?goods_id=362167099870\n",
      "福佳白啤酒白啤275ml*24*10份已拼4/10件链接------https://mobile.yangkeduo.com/audio_record.html?goods_id=356774967065\n",
      "七度空间+ABC日夜组*22份成团已拼7/22件链接------https://mobile.yangkeduo.com/audio_record.html?goods_id=357525835189\n",
      "家庭面粉 10斤/袋 20份成团已拼6/20件链接------https://mobile.yangkeduo.com/audio_record.html?goods_id=362184827915\n",
      "熊猫竹本手口柔护湿巾80抽*6包已拼3/12件链接------https://mobile.yangkeduo.com/audio_record.html?goods_id=361228933236\n",
      "新鲜甜王西瓜2只25斤 20份起送已拼5/20件链接------https://mobile.yangkeduo.com/audio_record.html?goods_id=363310049355\n",
      "原切牛腱子2斤 5份成团已拼1/5件链接------https://mobile.yangkeduo.com/audio_record.html?goods_id=358487693557\n",
      "烘焙六寸披萨5个装30份成团已拼5/30件链接------https://mobile.yangkeduo.com/audio_record.html?goods_id=358717426035\n",
      "面粉10斤送2袋酵母 30份成团已拼4/30件链接------https://mobile.yangkeduo.com/audio_record.html?goods_id=357633794355\n",
      "11度黑啤500ml*24罐10份成团已拼1/10件链接------https://mobile.yangkeduo.com/audio_record.html?goods_id=359712671225\n",
      "名扬火锅底料德庄麻辣清汤10份成团已拼1/10件链接------https://mobile.yangkeduo.com/audio_record.html?goods_id=361221404246\n",
      "清风金装抽纸整箱20包已拼2/25件链接------https://mobile.yangkeduo.com/audio_record.html?goods_id=362637813539\n",
      "带鱼段2000g*15份成团已拼1/15件链接------https://mobile.yangkeduo.com/audio_record.html?goods_id=361872779523\n",
      "可口可乐24罐*30份成团已拼2/30件链接------https://mobile.yangkeduo.com/audio_record.html?goods_id=354571155795\n",
      "红富士苹果10斤-15份起送已拼1/15件链接------https://mobile.yangkeduo.com/audio_record.html?goods_id=361693364247\n",
      "椰树245ml*24/30罐 20箱成团已拼1/20件链接------https://mobile.yangkeduo.com/audio_record.html?goods_id=358745558918\n",
      "富士苹果10斤20份成团已拼1/20件链接------https://mobile.yangkeduo.com/audio_record.html?goods_id=354683390658\n",
      "香蕉10斤*20份已拼1/20件链接------https://mobile.yangkeduo.com/audio_record.html?goods_id=360344093612\n",
      "越南香蕉10斤*20份成团已拼1/20件链接------https://mobile.yangkeduo.com/audio_record.html?goods_id=363435576542\n",
      "蒙牛特仑苏250ml*12盒20提成团已拼1/20件链接------https://mobile.yangkeduo.com/audio_record.html?goods_id=359461831287\n",
      "冰皮蛋糕1000g*30份成团已拼1/30件链接------https://mobile.yangkeduo.com/audio_record.html?goods_id=362463501581\n",
      "农家新鲜茭白5斤装*30份已拼1/30件链接------https://mobile.yangkeduo.com/audio_record.html?goods_id=362138969988\n",
      "光明优加莫斯利安系列混拼30箱成团已拼1/30件链接------https://mobile.yangkeduo.com/audio_record.html?goods_id=358138139675\n",
      "清风抽纸 清风卷纸 30份成团已拼1/30件链接------https://mobile.yangkeduo.com/audio_record.html?goods_id=356789867528\n"
     ]
    },
    {
     "data": {
      "text/plain": [
       "'robo_url = \\'https://qyapi.weixin.qq.com/cgi-bin/webhook/send?key=55038181-91f3-4278-8eee-18630bdc3ca6\\'\\nmHeader = {\\'Content-Type\\': \\'application/json; charset=UTF-8\\'}\\nmBody = {\\n        \"msgtype\": \"text\",\\n        \"text\": {\\n            \"content\":str(anlin_info)\\n        }\\n    }'"
      ]
     },
     "execution_count": 33,
     "metadata": {},
     "output_type": "execute_result"
    }
   ],
   "source": [
    "resp2= requests.get(url=url_new,headers=myheaders_get)\n",
    "resp2.encoding='utf-8'\n",
    "resp2\n",
    "info_bs4=BeautifulSoup(resp2.text,\"html.parser\")\n",
    "info_test=info_bs4.body\n",
    "test01=info_test.find(id=\"main\")\n",
    "info_temp = test01.findAll(name=\"div\", attrs={\"class\" :\"_2aTrQCkV\"})\n",
    "anlin_info=[]\n",
    "#print(\"当前时间:\"+str(time.asctime())+\"义务播报，此条信息为安临小区目前拼多多拼团情况\")\n",
    "for i in info_temp:\n",
    "    try:\n",
    "        name = i.get_text()\n",
    "        id_goods=i.find(name=\"div\", attrs={\"class\" :\"_1Vaf42cR\"}).get('id')\n",
    "        \n",
    "        result= re.findall('\\d+',id_goods)\n",
    "        anlin_info.append(name+'\\n链接------https://mobile.yangkeduo.com/audio_record.html?goods_id='+result[0])\n",
    "        print(re.findall('】.*',name)[0][1:]+'链接------https://mobile.yangkeduo.com/audio_record.html?goods_id='+result[0])\n",
    "        \n",
    "    except Exception as e:\n",
    "        pass\n",
    "'''robo_url = 'https://qyapi.weixin.qq.com/cgi-bin/webhook/send?key=55038181-91f3-4278-8eee-18630bdc3ca6'\n",
    "mHeader = {'Content-Type': 'application/json; charset=UTF-8'}\n",
    "mBody = {\n",
    "        \"msgtype\": \"text\",\n",
    "        \"text\": {\n",
    "            \"content\":str(anlin_info)\n",
    "        }\n",
    "    }'''\n",
    "#bot_resp=requests.post(url=robo_url, json=mBody, headers=mHeader)\n",
    "#print(\"义务播报，成团后请听拼多多团购发起者安排\")\n",
    "#bot_resp"
   ]
  },
  {
   "cell_type": "code",
   "execution_count": null,
   "metadata": {},
   "outputs": [],
   "source": []
  },
  {
   "cell_type": "code",
   "execution_count": null,
   "metadata": {
    "scrolled": true
   },
   "outputs": [],
   "source": []
  },
  {
   "cell_type": "code",
   "execution_count": 2,
   "metadata": {},
   "outputs": [],
   "source": []
  },
  {
   "cell_type": "code",
   "execution_count": 28,
   "metadata": {},
   "outputs": [
    {
     "data": {
      "text/plain": [
       "Point(x=1919, y=-1080)"
      ]
     },
     "execution_count": 28,
     "metadata": {},
     "output_type": "execute_result"
    }
   ],
   "source": [
    "#pyautogui.position()\n",
    "#pyautogui.size()\n",
    "pyautogui.screenshot()"
   ]
  },
  {
   "cell_type": "code",
   "execution_count": 47,
   "metadata": {},
   "outputs": [
    {
     "name": "stdout",
     "output_type": "stream",
     "text": [
      "当前时间:Fri May 20 10:50:44 2022\n",
      "此信息为安临小区当前拼多多外卖情况,已经过滤份数较少外卖\n",
      "乌苏啤酒500ml*12罐5份成团已拼4/5件链接------https://mobile.yangkeduo.com/audio_record.html?goods_id=362529432226\n",
      "和酒银标555ml*12*10箱成团已拼5/10件链接------https://mobile.yangkeduo.com/audio_record.html?goods_id=362987019881\n",
      "福佳白啤酒白啤275ml*24*10份已拼4/10件链接------https://mobile.yangkeduo.com/audio_record.html?goods_id=356774967065\n",
      "佩玛思特猫狗粮组合20斤6份团已拼2/6件链接------https://mobile.yangkeduo.com/audio_record.html?goods_id=362872602717\n",
      "家庭面粉 10斤/袋 20份成团已拼6/20件链接------https://mobile.yangkeduo.com/audio_record.html?goods_id=362184827915\n",
      "春见粑粑柑8斤装*20份成团已拼4/20件链接------https://mobile.yangkeduo.com/audio_record.html?goods_id=356861075495\n",
      "菲律宾凤梨1个*20份成团已拼4/20件链接------https://mobile.yangkeduo.com/audio_record.html?goods_id=364202535969\n",
      "原切牛腱子2斤 5份成团已拼1/5件链接------https://mobile.yangkeduo.com/audio_record.html?goods_id=358487693557\n",
      "越南香蕉10斤*20份成团已拼3/20件链接------https://mobile.yangkeduo.com/audio_record.html?goods_id=363435576542\n",
      "机器人🤖️无盈利义务播报，小区🈚️封控楼，快递到后各拿各的，切记做好消杀工作，机器人不承担责任，只为帮助有需要的邻居！机器人不承担责任谢谢🙏\n",
      "1\n",
      "anlin1.png\n",
      "2\n",
      "anlin2.png\n",
      "3\n",
      "anlin3.png\n",
      "4\n",
      "anlin4.png\n",
      "5\n",
      "anlin5.png\n",
      "6\n",
      "anlin6.png\n"
     ]
    }
   ],
   "source": [
    "resp2= requests.get(url=url_new,headers=myheaders_get)\n",
    "resp2.encoding='utf-8'\n",
    "resp2\n",
    "info_bs4=BeautifulSoup(resp2.text,\"html.parser\")\n",
    "info_test=info_bs4.body\n",
    "test01=info_test.find(id=\"main\")\n",
    "info_temp = test01.findAll(name=\"div\", attrs={\"class\" :\"_2aTrQCkV\"})\n",
    "anlin_info=[]\n",
    "report=\"\"\n",
    "report1=\"当前时间:\"+str(time.asctime())+\"\\n此信息为安临小区当前拼多多外卖情况,已经过滤份数较少外卖\\n\"\n",
    "report+=report1\n",
    "#print(report1)\n",
    "for i in info_temp:\n",
    "    try:\n",
    "        name = i.get_text()\n",
    "        #print(name)\n",
    "        id_goods=i.find(name=\"div\", attrs={\"class\" :\"_1Vaf42cR\"}).get('id')\n",
    "        \n",
    "        result= re.findall('\\d+',id_goods)\n",
    "        anlin_info.append(name+'\\n链接------https://mobile.yangkeduo.com/audio_record.html?goods_id='+result[0])\n",
    "        result_sucesess = re.findall('已成团',name)\n",
    "        #print(result_sucesess)\n",
    "        if result_sucesess !=[]:\n",
    "            test_wechat=re.findall('】.*',name)[0][1:]+'❕链接------https://mobile.yangkeduo.com/audio_record.html?goods_id='+result[0]\n",
    "            report=report+test_wechat+'\\n'\n",
    "            #print(test_wechat)\n",
    "        result_num = re.findall('已拼.*件',name)\n",
    "        Percentage =eval(result_num[0][2:-1])\n",
    "        if Percentage>=0.13:\n",
    "            test_wechat=re.findall('】.*',name)[0][1:]+'链接------https://mobile.yangkeduo.com/audio_record.html?goods_id='+result[0]\n",
    "            #print(test_wechat)\n",
    "            report=report+test_wechat+'\\n'\n",
    "    except Exception as e:\n",
    "        pass\n",
    "report2=\"机器人🤖️无盈利义务播报，小区🈚️封控楼，快递到后各拿各的，切记做好消杀工作，机器人不承担责任，只为帮助有需要的邻居！机器人不承担责任谢谢🙏\"\n",
    "report+=report2\n",
    "#print(report2)\n",
    "print(report)\n",
    "\n",
    "for num in range(1,7): \n",
    "    #time.sleep(1)\n",
    "    print(num) \n",
    "    print('anlin%d.png'%num) \n",
    "    location=pyautogui.locateCenterOnScreen('anlin%d.png'%num,confidence=0.9,grayscale=True)\n",
    "\n",
    "    pyautogui.moveTo(location[0]/2,location[1]/2)\n",
    "    pyautogui.click()\n",
    "    #\\n换行符\n",
    "    pyperclip.copy(report)\n",
    "    #pyperclip.paste()\n",
    "    pyautogui.hotkey('command','v')\n",
    "    #pyautogui.keyDown('command')\n",
    "    #pyautogui.keyDown('v')\n",
    "    pyautogui.press('enter')\n",
    "    time.sleep(2.5)"
   ]
  },
  {
   "cell_type": "code",
   "execution_count": 7,
   "metadata": {},
   "outputs": [],
   "source": [
    "import pyautogui\n",
    "import time \n",
    "\n",
    "#pyautogui.screenshot('foo.png')"
   ]
  },
  {
   "cell_type": "code",
   "execution_count": 32,
   "metadata": {},
   "outputs": [
    {
     "name": "stdout",
     "output_type": "stream",
     "text": [
      "当前时间:Thu May 19 09:38:53 2022\n",
      "此条信息为安临小区目前拼多多外卖情况,已经过滤份数较少外卖\n",
      "\n",
      "['已成团']\n",
      "【仅上海发货小区团购48小时送达】临安天目山春笋10斤10份成团已成团01:21:22后发货\n",
      "[]\n",
      "【仅上海发货 小区团购 48小时送达】乌苏啤酒500ml*12罐5份成团已拼3/5件\n",
      "乌苏啤酒500ml*12罐5份成团已拼3/5件链接------https://mobile.yangkeduo.com/audio_record.html?goods_id=362529432226\n",
      "[]\n",
      "【仅上海发货 小区团购 48小时送达】乌江榨菜70g*10包 28份成团已拼12/28件\n",
      "乌江榨菜70g*10包 28份成团已拼12/28件链接------https://mobile.yangkeduo.com/audio_record.html?goods_id=362167099870\n",
      "[]\n",
      "【仅上海发货小区团购48小时送达】福佳白啤酒白啤275ml*24*10份已拼4/10件\n",
      "[]\n",
      "【仅上海发货社区团购48 小时送达】七度空间+ABC日夜组*22份成团已拼7/22件\n",
      "[]\n",
      "【仅上海发货 小区团购 48小时送达】家庭面粉 10斤/袋 20份成团已拼6/20件\n",
      "家庭面粉 10斤/袋 20份成团已拼6/20件链接------https://mobile.yangkeduo.com/audio_record.html?goods_id=362184827915\n",
      "[]\n",
      "【仅上海发货小区团购48小时送达】熊猫竹本手口柔护湿巾80抽*6包已拼3/12件\n",
      "[]\n",
      "【仅上海发货 小区团购 48小时送达 】原切牛腱子2斤 5份成团已拼1/5件\n",
      "[]\n",
      "【仅上海发货小区团购48小时送达】烘焙六寸披萨5个装30份成团已拼5/30件\n",
      "[]\n",
      "【仅上海发货小区团购48小时送达】新鲜甜王西瓜2只25斤 20份起送已拼3/20件\n",
      "[]\n",
      "【仅上海发货 小区团购 48小时送达】面粉10斤送2袋酵母 30份成团已拼4/30件\n",
      "面粉10斤送2袋酵母 30份成团已拼4/30件链接------https://mobile.yangkeduo.com/audio_record.html?goods_id=357633794355\n",
      "[]\n",
      "【仅上海发货 小区团购 48小时送达】11度黑啤500ml*24罐10份成团已拼1/10件\n",
      "[]\n",
      "【仅上海社区团购48小时送达】名扬火锅底料德庄麻辣清汤10份成团已拼1/10件\n",
      "[]\n",
      "【仅上海发货 48小时送达】清风金装抽纸整箱20包已拼2/25件\n",
      "[]\n",
      "【仅上海发货 小区团购 48小时送达】带鱼段2000g*15份成团已拼1/15件\n",
      "[]\n",
      "【仅上海发货 小区团购 48小时送达】可口可乐24罐*30份成团已拼2/30件\n",
      "[]\n",
      "【仅上海发货 社区团购 48小时送达】红富士苹果10斤-15份起送已拼1/15件\n",
      "[]\n",
      "【仅上海发货 小区团购 48小时送达】椰树245ml*24/30罐 20箱成团已拼1/20件\n",
      "[]\n",
      "【仅上海发货 小区团购 48小时送达】富士苹果10斤20份成团已拼1/20件\n",
      "[]\n",
      "【仅上海发货 小区团购 48小时送达】香蕉10斤*20份已拼1/20件\n",
      "[]\n",
      "【仅上海发货 小区团购 48小时送达】越南香蕉10斤*20份成团已拼1/20件\n",
      "[]\n",
      "【仅上海发货小区团购48小时送达】蒙牛特仑苏250ml*12盒20提成团已拼1/20件\n",
      "[]\n",
      "【仅上海发货 小区团购 48小时送达】冰皮蛋糕1000g*30份成团已拼1/30件\n",
      "[]\n",
      "【仅上海发货 社区团购 48小时送达】农家新鲜茭白5斤装*30份已拼1/30件\n",
      "[]\n",
      "【仅上海社区团购48小时送达】光明优加莫斯利安系列混拼30箱成团已拼1/30件\n",
      "[]\n",
      "【仅上海发货 社区团购 48小时送达】清风抽纸 清风卷纸 30份成团已拼1/30件\n",
      "机器人🤖️无盈利义务播报，小区🈚️封控楼，自己拿自己的，做好消杀工作，只为帮助有需要的邻居！谢谢🙏\n"
     ]
    }
   ],
   "source": [
    "resp2= requests.get(url=url_new,headers=myheaders_get)\n",
    "resp2.encoding='utf-8'\n",
    "resp2\n",
    "info_bs4=BeautifulSoup(resp2.text,\"html.parser\")\n",
    "info_test=info_bs4.body\n",
    "test01=info_test.find(id=\"main\")\n",
    "info_temp = test01.findAll(name=\"div\", attrs={\"class\" :\"_2aTrQCkV\"})\n",
    "anlin_info=[]\n",
    "report=\"\"\n",
    "report1=\"当前时间:\"+str(time.asctime())+\"\\n此条信息为安临小区目前拼多多外卖情况,已经过滤份数较少外卖\\n\"\n",
    "report+=report1\n",
    "print(report1)\n",
    "for i in info_temp:\n",
    "    try:\n",
    "        name = i.get_text()\n",
    "        #print(name)\n",
    "        id_goods=i.find(name=\"div\", attrs={\"class\" :\"_1Vaf42cR\"}).get('id')\n",
    "        \n",
    "        result= re.findall('\\d+',id_goods)\n",
    "        anlin_info.append(name+'\\n链接------https://mobile.yangkeduo.com/audio_record.html?goods_id='+result[0])\n",
    "        result_num = re.findall('已拼.*件',name)\n",
    "        result_success = re.findall('已成团',name)\n",
    "        print(result_success)\n",
    "        print(name)\n",
    "        Percentage =eval(result_num[0][2:-1])\n",
    "        if Percentage>=0.13:\n",
    "            test_wechat=name.split(\"【仅上海发货 小区团购 48小时送达】\")[1]+'链接------https://mobile.yangkeduo.com/audio_record.html?goods_id='+result[0]\n",
    "            print(test_wechat)\n",
    "            report=report+test_wechat+'\\n'\n",
    "    except Exception as e:\n",
    "        pass\n",
    "report2=\"机器人🤖️无盈利义务播报，小区🈚️封控楼，自己拿自己的，做好消杀工作，只为帮助有需要的邻居！谢谢🙏\"\n",
    "report+=report2\n",
    "print(report2)"
   ]
  },
  {
   "cell_type": "code",
   "execution_count": null,
   "metadata": {
    "scrolled": true
   },
   "outputs": [],
   "source": []
  },
  {
   "cell_type": "markdown",
   "metadata": {},
   "source": [
    "time.sleep(1)\n",
    "pyautogui.size()\n",
    "#location = pyautogui.locateCenterOnScreen('pxxgroup.png')\n",
    "for num in range(1,5):\n",
    "    print(num)\n",
    "    print('anlin%d.png'%num)\n",
    "    location=pyautogui.locateCenterOnScreen('anlin%d.png'%num)\n",
    "    \n",
    "    pyautogui.moveTo(location[0]/2,location[1]/2)\n",
    "    pyautogui.write(name+'链接------https://mobile.yangkeduo.com/audio_record.html?goods_id='+result[0], interval=0.25)\n",
    "    \n",
    "    #time.sleep(0.5)\n",
    "\n"
   ]
  },
  {
   "cell_type": "markdown",
   "metadata": {},
   "source": [
    "time.sleep(1) \n",
    "pyautogui.size() #location = pyautogui.locateCenterOnScreen('pxxgroup.png') \n",
    "for num in range(1,2): \n",
    "    print(num) \n",
    "    print('anlin%d.png'%num) \n",
    "    location=pyautogui.locateCenterOnScreen('anlin%d.png'%num)\n",
    "\n",
    "    pyautogui.moveTo(location[0]/2,location[1]/2)\n",
    "    pyautogui.write(name+'链接------https://mobile.yangkeduo.com/audio_record.html?goods_id='+result[0])\n",
    "\n",
    "#time.sleep(0.5)"
   ]
  },
  {
   "cell_type": "markdown",
   "metadata": {},
   "source": [
    "### time.sleep(1) \n",
    "pyautogui.size() #location = pyautogui.locateCenterOnScreen('pxxgroup.png') \n",
    "for num in range(1,2): \n",
    "    print(num) \n",
    "    print('anlin%d.png'%num) \n",
    "    location=pyautogui.locateCenterOnScreen('anlin%d.png'%num,confidence=0.9,grayscale=True)\n",
    "\n",
    "    pyautogui.moveTo(location[0]/2,location[1]/2)\n",
    "    pyautogui.click\n",
    "    pyautogui.write(name+'链接------https://mobile.yangkeduo.com/audio_record.html?goods_id='+result[0])\n",
    "\n",
    "#time.sleep(0.5)"
   ]
  },
  {
   "cell_type": "code",
   "execution_count": 9,
   "metadata": {},
   "outputs": [],
   "source": [
    "import pyperclip"
   ]
  },
  {
   "cell_type": "code",
   "execution_count": 87,
   "metadata": {},
   "outputs": [
    {
     "name": "stdout",
     "output_type": "stream",
     "text": [
      "1\n",
      "anlin1.png\n",
      "2\n",
      "anlin2.png\n",
      "3\n",
      "anlin3.png\n",
      "4\n",
      "anlin4.png\n"
     ]
    }
   ],
   "source": [
    "#pyautogui.size() #location = pyautogui.locateCenterOnScreen('pxxgroup.png') \n",
    "for num in range(1,5): \n",
    "    print(num) \n",
    "    print('anlin%d.png'%num) \n",
    "    location=pyautogui.locateCenterOnScreen('anlin%d.png'%num,confidence=0.9,grayscale=True)\n",
    "\n",
    "    pyautogui.moveTo(location[0]/2,location[1]/2)\n",
    "    pyautogui.click()\n",
    "    #\\n换行符\n",
    "    pyperclip.copy(report)\n",
    "    #pyperclip.paste()\n",
    "    pyautogui.hotkey('command','v')\n",
    "    #pyautogui.keyDown('command')\n",
    "    #pyautogui.keyDown('v')\n",
    "    pyautogui.press('enter')\n",
    "\n",
    "#time.sleep(0.5)"
   ]
  },
  {
   "cell_type": "code",
   "execution_count": 20,
   "metadata": {},
   "outputs": [
    {
     "name": "stdout",
     "output_type": "stream",
     "text": [
      "不一样\n",
      "report------\n",
      "当前时间:Sat May 21 09:58:57 2022\n",
      "此条信息为安临小区目前拼多多外卖情况,已经过滤份数较少外卖\n",
      "和酒银标555ml*12*10箱成团已拼5/10件链接------https://mobile.yangkeduo.com/audio_record.html?goods_id=362987019881\n",
      "新鲜山东大土豆8斤15份成团已拼7/15件链接------https://mobile.yangkeduo.com/audio_record.html?goods_id=364694062940\n",
      "春见粑粑柑8斤装*20份成团已拼8/20件链接------https://mobile.yangkeduo.com/audio_record.html?goods_id=356861075495\n",
      "佩玛思特猫狗粮组合20斤6份团已拼2/6件链接------https://mobile.yangkeduo.com/audio_record.html?goods_id=362872602717\n",
      "家庭面粉 10斤/袋 20份成团已拼6/20件链接------https://mobile.yangkeduo.com/audio_record.html?goods_id=362184827915\n",
      "象牌苏打水325*24瓶/箱20份成团已拼5/20件链接------https://mobile.yangkeduo.com/audio_record.html?goods_id=362883477932\n",
      "菲律宾凤梨1个*20份成团已拼4/20件链接------https://mobile.yangkeduo.com/audio_record.html?goods_id=364202535969\n",
      "可口可乐24罐*30份成团已拼5/30件链接------https://mobile.yangkeduo.com/audio_record.html?goods_id=354571155795\n",
      "\n",
      "report_temp------\n",
      "\n",
      "report_temp_after------\n",
      "当前时间:Sat May 21 09:58:57 2022\n",
      "此条信息为安临小区目前拼多多外卖情况,已经过滤份数较少外卖\n",
      "和酒银标555ml*12*10箱成团已拼5/10件链接------https://mobile.yangkeduo.com/audio_record.html?goods_id=362987019881\n",
      "新鲜山东大土豆8斤15份成团已拼7/15件链接------https://mobile.yangkeduo.com/audio_record.html?goods_id=364694062940\n",
      "春见粑粑柑8斤装*20份成团已拼8/20件链接------https://mobile.yangkeduo.com/audio_record.html?goods_id=356861075495\n",
      "佩玛思特猫狗粮组合20斤6份团已拼2/6件链接------https://mobile.yangkeduo.com/audio_record.html?goods_id=362872602717\n",
      "家庭面粉 10斤/袋 20份成团已拼6/20件链接------https://mobile.yangkeduo.com/audio_record.html?goods_id=362184827915\n",
      "象牌苏打水325*24瓶/箱20份成团已拼5/20件链接------https://mobile.yangkeduo.com/audio_record.html?goods_id=362883477932\n",
      "菲律宾凤梨1个*20份成团已拼4/20件链接------https://mobile.yangkeduo.com/audio_record.html?goods_id=364202535969\n",
      "可口可乐24罐*30份成团已拼5/30件链接------https://mobile.yangkeduo.com/audio_record.html?goods_id=354571155795\n",
      "\n",
      "当前时间:Sat May 21 09:58:57 2022\n",
      "此条信息为安临小区目前拼多多外卖情况,已经过滤份数较少外卖\n",
      "和酒银标555ml*12*10箱成团已拼5/10件链接------https://mobile.yangkeduo.com/audio_record.html?goods_id=362987019881\n",
      "新鲜山东大土豆8斤15份成团已拼7/15件链接------https://mobile.yangkeduo.com/audio_record.html?goods_id=364694062940\n",
      "春见粑粑柑8斤装*20份成团已拼8/20件链接------https://mobile.yangkeduo.com/audio_record.html?goods_id=356861075495\n",
      "佩玛思特猫狗粮组合20斤6份团已拼2/6件链接------https://mobile.yangkeduo.com/audio_record.html?goods_id=362872602717\n",
      "家庭面粉 10斤/袋 20份成团已拼6/20件链接------https://mobile.yangkeduo.com/audio_record.html?goods_id=362184827915\n",
      "象牌苏打水325*24瓶/箱20份成团已拼5/20件链接------https://mobile.yangkeduo.com/audio_record.html?goods_id=362883477932\n",
      "菲律宾凤梨1个*20份成团已拼4/20件链接------https://mobile.yangkeduo.com/audio_record.html?goods_id=364202535969\n",
      "可口可乐24罐*30份成团已拼5/30件链接------https://mobile.yangkeduo.com/audio_record.html?goods_id=354571155795\n",
      "机器人🤖️无盈利义务播报，小区🈚️封控楼，自己拿自己的，做好消杀工作，只为帮助有需要的邻居！谢谢🙏\n"
     ]
    },
    {
     "data": {
      "text/plain": [
       "\"for num in range(1,7): \\n    #time.sleep(1)\\n    print(num) \\n    print('anlin%d.png'%num) \\n    location=pyautogui.locateCenterOnScreen('anlin%d.png'%num,confidence=0.9,grayscale=True)\\n\\n    pyautogui.moveTo(location[0]/2,location[1]/2)\\n    pyautogui.click()\\n    #\\n换行符\\n    pyperclip.copy(report)\\n    #pyperclip.paste()\\n    pyautogui.hotkey('command','v')\\n    #pyautogui.keyDown('command')\\n    #pyautogui.keyDown('v')\\n    pyautogui.press('enter')\\n    time.sleep(2.5)\""
      ]
     },
     "execution_count": 20,
     "metadata": {},
     "output_type": "execute_result"
    }
   ],
   "source": [
    "resp2= requests.get(url=url_new,headers=myheaders_get)\n",
    "resp2.encoding='utf-8'\n",
    "resp2\n",
    "info_bs4=BeautifulSoup(resp2.text,\"html.parser\")\n",
    "info_test=info_bs4.body\n",
    "test01=info_test.find(id=\"main\")\n",
    "info_temp = test01.findAll(name=\"div\", attrs={\"class\" :\"_2aTrQCkV\"})\n",
    "anlin_info=[]\n",
    "report=\"\"\n",
    "report_temp=\"\"\n",
    "report1=\"当前时间:\"+str(time.asctime())+\"\\n此条信息为安临小区目前拼多多外卖情况,已经过滤份数较少外卖\\n\"\n",
    "report+=report1\n",
    "#print(report1)\n",
    "for i in info_temp:\n",
    "    try:\n",
    "        name = i.get_text()\n",
    "        #print(name)\n",
    "        id_goods=i.find(name=\"div\", attrs={\"class\" :\"_1Vaf42cR\"}).get('id')\n",
    "        \n",
    "        result= re.findall('\\d+',id_goods)\n",
    "        anlin_info.append(name+'\\n链接------https://mobile.yangkeduo.com/audio_record.html?goods_id='+result[0])\n",
    "        result_sucesess = re.findall('已成团',name)\n",
    "        #print(result_sucesess)\n",
    "        if result_sucesess !=[]:\n",
    "            test_wechat=re.findall('】.*',name)[0][1:]+'链接------https://mobile.yangkeduo.com/audio_record.html?goods_id='+result[0]\n",
    "            report=report+test_wechat+'\\n'\n",
    "            #print(test_wechat)\n",
    "        result_num = re.findall('已拼.*件',name)\n",
    "        Percentage =eval(result_num[0][2:-1])\n",
    "        if Percentage>=0.13:\n",
    "            test_wechat=re.findall('】.*',name)[0][1:]+'链接------https://mobile.yangkeduo.com/audio_record.html?goods_id='+result[0]\n",
    "            #print(test_wechat)\n",
    "            report=report+test_wechat+'\\n'\n",
    "        \n",
    "    except Exception as e:\n",
    "        pass\n",
    "    \n",
    "if report!=report_temp:\n",
    "    print(\"不一样\")\n",
    "    print('report------')\n",
    "    print(report)\n",
    "    print('report_temp------')\n",
    "    print(report_temp)\n",
    "                \n",
    "    report_temp=report\n",
    "    print('report_temp_after------')\n",
    "    print(report_temp)\n",
    "report2=\"机器人🤖️无盈利义务播报，小区🈚️封控楼，自己拿自己的，做好消杀工作，只为帮助有需要的邻居！谢谢🙏\"\n",
    "report+=report2\n",
    "#print(report2)\n",
    "print(report)\n",
    "\n",
    "def wechat():\n",
    "    for num in range(1,7): \n",
    "        #time.sleep(1)\n",
    "        print(num) \n",
    "        print('anlin%d.png'%num) \n",
    "        location=pyautogui.locateCenterOnScreen('anlin%d.png'%num,confidence=0.9,grayscale=True)\n",
    "\n",
    "        pyautogui.moveTo(location[0]/2,location[1]/2)\n",
    "        pyautogui.click()\n",
    "        #\\n换行符\n",
    "        pyperclip.copy(report)\n",
    "        #pyperclip.paste()\n",
    "        pyautogui.hotkey('command','v')\n",
    "        #pyautogui.keyDown('command')\n",
    "        #pyautogui.keyDown('v')\n",
    "        pyautogui.press('enter')\n",
    "        time.sleep(2.5)"
   ]
  },
  {
   "cell_type": "code",
   "execution_count": 11,
   "metadata": {},
   "outputs": [],
   "source": [
    "\n",
    "def robot():\n",
    "    resp2= requests.get(url=url_new,headers=myheaders_get)\n",
    "    resp2.encoding='utf-8'\n",
    "    resp2\n",
    "    info_bs4=BeautifulSoup(resp2.text,\"html.parser\")\n",
    "    info_test=info_bs4.body\n",
    "    test01=info_test.find(id=\"main\")\n",
    "    info_temp = test01.findAll(name=\"div\", attrs={\"class\" :\"_2aTrQCkV\"})\n",
    "    anlin_info=[]\n",
    "    report=\"\"\n",
    "    report1=\"当前时间:\"+str(time.asctime())+\"\\n此信息为安临小区当前拼多多外卖情况,已经过滤份数较少外卖\\n\"\n",
    "    report+=report1\n",
    "    #print(report1)\n",
    "    for i in info_temp:\n",
    "        try:\n",
    "            name = i.get_text()\n",
    "            #print(name)\n",
    "            id_goods=i.find(name=\"div\", attrs={\"class\" :\"_1Vaf42cR\"}).get('id')\n",
    "\n",
    "            result= re.findall('\\d+',id_goods)\n",
    "            anlin_info.append(name+'\\n链接------https://mobile.yangkeduo.com/audio_record.html?goods_id='+result[0])\n",
    "            result_sucesess = re.findall('已成团',name)\n",
    "            #print(result_sucesess)\n",
    "            if result_sucesess !=[]:\n",
    "                test_wechat=re.findall('】.*',name)[0][1:]+'❕链接------https://mobile.yangkeduo.com/audio_record.html?goods_id='+result[0]\n",
    "                report=report+test_wechat+'\\n'\n",
    "                #print(test_wechat)\n",
    "            result_num = re.findall('已拼.*件',name)\n",
    "            Percentage =eval(result_num[0][2:-1])\n",
    "            if Percentage>=0.13:\n",
    "                test_wechat=re.findall('】.*',name)[0][1:]+'链接------https://mobile.yangkeduo.com/audio_record.html?goods_id='+result[0]\n",
    "                #print(test_wechat)\n",
    "                report=report+test_wechat+'\\n'\n",
    "        except Exception as e:\n",
    "            pass\n",
    "    report2=\"机器人🤖️无盈利义务播报，小区🈚️封控楼，快递到后各拿各的，切记做好消杀工作，机器人不承担责任，只为帮助有需要的邻居！机器人不承担责任谢谢🙏\"\n",
    "    report+=report2\n",
    "    #print(report2)\n",
    "    print(report)\n",
    "\n",
    "    for num in range(1,6): \n",
    "        #time.sleep(1)\n",
    "        #print(num) \n",
    "        #print('anlin%d.png'%num) \n",
    "        location=pyautogui.locateCenterOnScreen('anlin%d.png'%num,confidence=0.9,grayscale=True)\n",
    "\n",
    "        pyautogui.moveTo(location[0]/2,location[1]/2)\n",
    "        pyautogui.click()\n",
    "        #\\n换行符\n",
    "        pyperclip.copy(report)\n",
    "        #pyperclip.paste()\n",
    "        pyautogui.hotkey('command','v')\n",
    "        #pyautogui.keyDown('command')\n",
    "        #pyautogui.keyDown('v')\n",
    "        pyautogui.press('enter')\n",
    "        time.sleep(2.5)"
   ]
  },
  {
   "cell_type": "code",
   "execution_count": 13,
   "metadata": {},
   "outputs": [
    {
     "name": "stdout",
     "output_type": "stream",
     "text": [
      "当前时间:Sat May 21 09:48:33 2022\n",
      "此信息为安临小区当前拼多多外卖情况,已经过滤份数较少外卖\n",
      "和酒银标555ml*12*10箱成团已拼5/10件链接------https://mobile.yangkeduo.com/audio_record.html?goods_id=362987019881\n",
      "春见粑粑柑8斤装*20份成团已拼8/20件链接------https://mobile.yangkeduo.com/audio_record.html?goods_id=356861075495\n",
      "新鲜山东大土豆8斤15份成团已拼6/15件链接------https://mobile.yangkeduo.com/audio_record.html?goods_id=364694062940\n",
      "佩玛思特猫狗粮组合20斤6份团已拼2/6件链接------https://mobile.yangkeduo.com/audio_record.html?goods_id=362872602717\n",
      "家庭面粉 10斤/袋 20份成团已拼6/20件链接------https://mobile.yangkeduo.com/audio_record.html?goods_id=362184827915\n",
      "象牌苏打水325*24瓶/箱20份成团已拼5/20件链接------https://mobile.yangkeduo.com/audio_record.html?goods_id=362883477932\n",
      "菲律宾凤梨1个*20份成团已拼4/20件链接------https://mobile.yangkeduo.com/audio_record.html?goods_id=364202535969\n",
      "可口可乐24罐*30份成团已拼5/30件链接------https://mobile.yangkeduo.com/audio_record.html?goods_id=354571155795\n",
      "越南香蕉10斤*20份成团已拼3/20件链接------https://mobile.yangkeduo.com/audio_record.html?goods_id=363435576542\n",
      "机器人🤖️无盈利义务播报，小区🈚️封控楼，快递到后各拿各的，切记做好消杀工作，机器人不承担责任，只为帮助有需要的邻居！机器人不承担责任谢谢🙏\n",
      "当前时间:Sat May 21 09:48:57 2022\n",
      "此信息为安临小区当前拼多多外卖情况,已经过滤份数较少外卖\n",
      "和酒银标555ml*12*10箱成团已拼5/10件链接------https://mobile.yangkeduo.com/audio_record.html?goods_id=362987019881\n",
      "春见粑粑柑8斤装*20份成团已拼8/20件链接------https://mobile.yangkeduo.com/audio_record.html?goods_id=356861075495\n",
      "新鲜山东大土豆8斤15份成团已拼6/15件链接------https://mobile.yangkeduo.com/audio_record.html?goods_id=364694062940\n",
      "佩玛思特猫狗粮组合20斤6份团已拼2/6件链接------https://mobile.yangkeduo.com/audio_record.html?goods_id=362872602717\n",
      "家庭面粉 10斤/袋 20份成团已拼6/20件链接------https://mobile.yangkeduo.com/audio_record.html?goods_id=362184827915\n",
      "象牌苏打水325*24瓶/箱20份成团已拼5/20件链接------https://mobile.yangkeduo.com/audio_record.html?goods_id=362883477932\n",
      "菲律宾凤梨1个*20份成团已拼4/20件链接------https://mobile.yangkeduo.com/audio_record.html?goods_id=364202535969\n",
      "可口可乐24罐*30份成团已拼5/30件链接------https://mobile.yangkeduo.com/audio_record.html?goods_id=354571155795\n",
      "越南香蕉10斤*20份成团已拼3/20件链接------https://mobile.yangkeduo.com/audio_record.html?goods_id=363435576542\n",
      "机器人🤖️无盈利义务播报，小区🈚️封控楼，快递到后各拿各的，切记做好消杀工作，机器人不承担责任，只为帮助有需要的邻居！机器人不承担责任谢谢🙏\n",
      "当前时间:Sat May 21 09:49:21 2022\n",
      "此信息为安临小区当前拼多多外卖情况,已经过滤份数较少外卖\n",
      "和酒银标555ml*12*10箱成团已拼5/10件链接------https://mobile.yangkeduo.com/audio_record.html?goods_id=362987019881\n",
      "春见粑粑柑8斤装*20份成团已拼8/20件链接------https://mobile.yangkeduo.com/audio_record.html?goods_id=356861075495\n",
      "新鲜山东大土豆8斤15份成团已拼6/15件链接------https://mobile.yangkeduo.com/audio_record.html?goods_id=364694062940\n",
      "佩玛思特猫狗粮组合20斤6份团已拼2/6件链接------https://mobile.yangkeduo.com/audio_record.html?goods_id=362872602717\n",
      "家庭面粉 10斤/袋 20份成团已拼6/20件链接------https://mobile.yangkeduo.com/audio_record.html?goods_id=362184827915\n",
      "象牌苏打水325*24瓶/箱20份成团已拼5/20件链接------https://mobile.yangkeduo.com/audio_record.html?goods_id=362883477932\n",
      "菲律宾凤梨1个*20份成团已拼4/20件链接------https://mobile.yangkeduo.com/audio_record.html?goods_id=364202535969\n",
      "可口可乐24罐*30份成团已拼5/30件链接------https://mobile.yangkeduo.com/audio_record.html?goods_id=354571155795\n",
      "越南香蕉10斤*20份成团已拼3/20件链接------https://mobile.yangkeduo.com/audio_record.html?goods_id=363435576542\n",
      "机器人🤖️无盈利义务播报，小区🈚️封控楼，快递到后各拿各的，切记做好消杀工作，机器人不承担责任，只为帮助有需要的邻居！机器人不承担责任谢谢🙏\n"
     ]
    },
    {
     "ename": "KeyboardInterrupt",
     "evalue": "",
     "output_type": "error",
     "traceback": [
      "\u001b[0;31m---------------------------------------------------------------------------\u001b[0m",
      "\u001b[0;31mKeyboardInterrupt\u001b[0m                         Traceback (most recent call last)",
      "\u001b[0;32m<ipython-input-13-fc35945375ad>\u001b[0m in \u001b[0;36m<module>\u001b[0;34m\u001b[0m\n\u001b[1;32m      3\u001b[0m \u001b[0;34m\u001b[0m\u001b[0m\n\u001b[1;32m      4\u001b[0m     \u001b[0mrobot\u001b[0m\u001b[0;34m(\u001b[0m\u001b[0;34m)\u001b[0m\u001b[0;34m\u001b[0m\u001b[0;34m\u001b[0m\u001b[0m\n\u001b[0;32m----> 5\u001b[0;31m     \u001b[0mtime\u001b[0m\u001b[0;34m.\u001b[0m\u001b[0msleep\u001b[0m\u001b[0;34m(\u001b[0m\u001b[0;36m20\u001b[0m\u001b[0;34m)\u001b[0m\u001b[0;34m\u001b[0m\u001b[0;34m\u001b[0m\u001b[0m\n\u001b[0m\u001b[1;32m      6\u001b[0m \u001b[0;34m\u001b[0m\u001b[0m\n",
      "\u001b[0;31mKeyboardInterrupt\u001b[0m: "
     ]
    }
   ],
   "source": [
    "report_temp=''\n",
    "while True:\n",
    "    \n",
    "    robot()\n",
    "    time.sleep(20)\n",
    "    "
   ]
  }
 ],
 "metadata": {
  "kernelspec": {
   "display_name": "Python 3",
   "language": "python",
   "name": "python3"
  },
  "language_info": {
   "codemirror_mode": {
    "name": "ipython",
    "version": 3
   },
   "file_extension": ".py",
   "mimetype": "text/x-python",
   "name": "python",
   "nbconvert_exporter": "python",
   "pygments_lexer": "ipython3",
   "version": "3.8.5"
  }
 },
 "nbformat": 4,
 "nbformat_minor": 4
}
